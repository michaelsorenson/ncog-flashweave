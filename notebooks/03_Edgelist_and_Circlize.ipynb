{
 "cells": [
  {
   "cell_type": "code",
   "execution_count": 1,
   "id": "089bd5e5",
   "metadata": {},
   "outputs": [],
   "source": [
    "import numpy as np\n",
    "import os\n",
    "import pandas as pd\n",
    "import sys\n",
    "sys.path.insert(0, '..')"
   ]
  },
  {
   "cell_type": "code",
   "execution_count": 2,
   "id": "754f0e96",
   "metadata": {},
   "outputs": [],
   "source": [
    "%load_ext autoreload\n",
    "%autoreload 2"
   ]
  },
  {
   "cell_type": "code",
   "execution_count": 3,
   "id": "f0dbbfdb",
   "metadata": {},
   "outputs": [],
   "source": [
    "from src.circlize_etl import circlize_etl\n",
    "from src.circlize_etl import get_edgelist"
   ]
  },
  {
   "cell_type": "markdown",
   "id": "b24aee91",
   "metadata": {},
   "source": [
    "## Edgelist"
   ]
  },
  {
   "cell_type": "code",
   "execution_count": 4,
   "id": "4a28204f",
   "metadata": {},
   "outputs": [],
   "source": [
    "os.makedirs('../data/edgelist', exist_ok=True)"
   ]
  },
  {
   "cell_type": "code",
   "execution_count": 5,
   "id": "0ecc78d8",
   "metadata": {},
   "outputs": [],
   "source": [
    "v4_edgelist = get_edgelist('../data/input/NCOG_21_16S_redo2_asv_count_tax.tsv', \n",
    "                                        '../data/input/NCOG_18sV4_asv_count_tax.tsv',\n",
    "                                        '../data/graph/NCOG_network_output_v4.gml')"
   ]
  },
  {
   "cell_type": "code",
   "execution_count": 6,
   "id": "b175a3dd",
   "metadata": {},
   "outputs": [],
   "source": [
    "v4_edgelist.to_csv('../data/edgelist/NCOG_network_v4_edgelist.csv', index=False)"
   ]
  },
  {
   "cell_type": "code",
   "execution_count": 7,
   "id": "4d88f45f",
   "metadata": {},
   "outputs": [],
   "source": [
    "v9_edgelist = get_edgelist('../data/input/NCOG_21_16S_redo2_asv_count_tax.tsv', \n",
    "                           '../data/input/NCOG_18sV9_asv_count_tax_S.tsv',\n",
    "                           '../data/graph/NCOG_network_output_v9.gml')"
   ]
  },
  {
   "cell_type": "code",
   "execution_count": 8,
   "id": "7c0e798e",
   "metadata": {},
   "outputs": [],
   "source": [
    "v9_edgelist.to_csv('../data/edgelist/NCOG_network_v9_edgelist.csv', index=False)"
   ]
  },
  {
   "cell_type": "markdown",
   "id": "5c686a6a",
   "metadata": {},
   "source": [
    "## Bacillariophyta"
   ]
  },
  {
   "cell_type": "code",
   "execution_count": 9,
   "id": "f6893bb3",
   "metadata": {},
   "outputs": [],
   "source": [
    "os.makedirs('../data/circlize/Bacillariophyta', exist_ok=True)"
   ]
  },
  {
   "cell_type": "code",
   "execution_count": 10,
   "id": "96433bfe",
   "metadata": {},
   "outputs": [],
   "source": [
    "# Use original data because they contain the taxonomy info\n",
    "v4_focus_edges_df = circlize_etl('../data/input/NCOG_21_16S_redo2_asv_count_tax.tsv',\n",
    "                                 '../data/input/NCOG_18sV4_asv_count_tax.tsv',\n",
    "                                 '../data/graph/NCOG_network_output_v4.gml',\n",
    "                                 'Bacillariophyta', 20)"
   ]
  },
  {
   "cell_type": "code",
   "execution_count": 11,
   "id": "e28cba1c",
   "metadata": {},
   "outputs": [],
   "source": [
    "v4_focus_edges_df.to_csv('../data/circlize/Bacillariophyta/NCOG_network_v4_circlize_edgelist_bacillariophyta.csv',\n",
    "                         index=False)"
   ]
  },
  {
   "cell_type": "code",
   "execution_count": 12,
   "id": "e8ffe68c",
   "metadata": {},
   "outputs": [],
   "source": [
    "v9_focus_edges_df = circlize_etl('../data/input/NCOG_21_16S_redo2_asv_count_tax.tsv',\n",
    "                                 '../data/input/NCOG_18sV9_asv_count_tax_S.tsv',\n",
    "                                 '../data/graph/NCOG_network_output_v9.gml',\n",
    "                                 'Bacillariophyta', 20)"
   ]
  },
  {
   "cell_type": "code",
   "execution_count": 13,
   "id": "90b1294f",
   "metadata": {},
   "outputs": [],
   "source": [
    "v9_focus_edges_df.to_csv('../data/circlize/Bacillariophyta/NCOG_network_v9_circlize_edgelist_bacillariophyta.csv',\n",
    "                         index=False)"
   ]
  },
  {
   "cell_type": "markdown",
   "id": "0651ba88",
   "metadata": {},
   "source": [
    "## Bicoecea"
   ]
  },
  {
   "cell_type": "code",
   "execution_count": 14,
   "id": "0faf7022",
   "metadata": {},
   "outputs": [],
   "source": [
    "os.makedirs('../data/circlize/Bicoecea', exist_ok=True)"
   ]
  },
  {
   "cell_type": "code",
   "execution_count": 15,
   "id": "4fefd6f6",
   "metadata": {},
   "outputs": [],
   "source": [
    "v4_focus_edges_df = circlize_etl('../data/input/NCOG_21_16S_redo2_asv_count_tax.tsv',\n",
    "                                 '../data/input/NCOG_18sV4_asv_count_tax.tsv',\n",
    "                                 '../data/graph/NCOG_network_output_v4.gml',\n",
    "                                 'Bicoecea', 20)"
   ]
  },
  {
   "cell_type": "code",
   "execution_count": 16,
   "id": "8d5545dd",
   "metadata": {},
   "outputs": [],
   "source": [
    "v4_focus_edges_df.to_csv('../data/circlize/Bicoecea/NCOG_network_v4_circlize_edgelist_bicoecea.csv', index=False)"
   ]
  },
  {
   "cell_type": "code",
   "execution_count": 17,
   "id": "fa596e74",
   "metadata": {},
   "outputs": [],
   "source": [
    "v9_focus_edges_df = circlize_etl('../data/input/NCOG_21_16S_redo2_asv_count_tax.tsv',\n",
    "                                 '../data/input/NCOG_18sV4_asv_count_tax.tsv',\n",
    "                                 '../data/graph/NCOG_network_output_v9.gml',\n",
    "                                 'Bicoecea', 20)"
   ]
  },
  {
   "cell_type": "code",
   "execution_count": 18,
   "id": "aa725f50",
   "metadata": {},
   "outputs": [],
   "source": [
    "v9_focus_edges_df.to_csv('../data/circlize/Bicoecea/NCOG_network_v9_circlize_edgelist_bicoecea.csv', index=False)"
   ]
  },
  {
   "cell_type": "markdown",
   "id": "1798b279",
   "metadata": {},
   "source": [
    "## Planctomycetota"
   ]
  },
  {
   "cell_type": "code",
   "execution_count": 19,
   "id": "eb9fe851",
   "metadata": {},
   "outputs": [],
   "source": [
    "os.makedirs('../data/circlize/Planctomycetota', exist_ok=True)"
   ]
  },
  {
   "cell_type": "code",
   "execution_count": 20,
   "id": "2c96ca05",
   "metadata": {},
   "outputs": [],
   "source": [
    "v4_focus_edges_df = circlize_etl('../data/input/NCOG_21_16S_redo2_asv_count_tax.tsv',\n",
    "                                 '../data/input/NCOG_18sV4_asv_count_tax.tsv',\n",
    "                                 '../data/graph/NCOG_network_output_v4.gml',\n",
    "                                 'p__Planctomycetota', 20)"
   ]
  },
  {
   "cell_type": "code",
   "execution_count": 21,
   "id": "bd16364e",
   "metadata": {},
   "outputs": [],
   "source": [
    "v4_focus_edges_df.to_csv('../data/circlize/Planctomycetota/NCOG_network_v4_circlize_edgelist_planctomycetota.csv', index=False)"
   ]
  },
  {
   "cell_type": "code",
   "execution_count": 22,
   "id": "d8a03c90",
   "metadata": {},
   "outputs": [],
   "source": [
    "v9_focus_edges_df = circlize_etl('../data/input/NCOG_21_16S_redo2_asv_count_tax.tsv',\n",
    "                                 '../data/input/NCOG_18sV4_asv_count_tax.tsv',\n",
    "                                 '../data/graph/NCOG_network_output_v9.gml',\n",
    "                                 'p__Planctomycetota', 20)"
   ]
  },
  {
   "cell_type": "code",
   "execution_count": 23,
   "id": "42e5ea24",
   "metadata": {},
   "outputs": [],
   "source": [
    "v9_focus_edges_df.to_csv('../data/circlize/Planctomycetota/NCOG_network_v9_circlize_edgelist_planctomycetota.csv', index=False)"
   ]
  },
  {
   "cell_type": "markdown",
   "id": "190c8ab8",
   "metadata": {},
   "source": [
    "## p__Verrucomicrobiota"
   ]
  },
  {
   "cell_type": "code",
   "execution_count": 24,
   "id": "a4ea0a33",
   "metadata": {},
   "outputs": [],
   "source": [
    "os.makedirs('../data/circlize/Verrucomicrobiota', exist_ok=True)"
   ]
  },
  {
   "cell_type": "code",
   "execution_count": 25,
   "id": "68e98e81",
   "metadata": {},
   "outputs": [],
   "source": [
    "v4_focus_edges_df = circlize_etl('../data/input/NCOG_21_16S_redo2_asv_count_tax.tsv',\n",
    "                                 '../data/input/NCOG_18sV4_asv_count_tax.tsv',\n",
    "                                 '../data/graph/NCOG_network_output_v4.gml',\n",
    "                                 'p__Verrucomicrobiota', 20)"
   ]
  },
  {
   "cell_type": "code",
   "execution_count": 26,
   "id": "76768d48",
   "metadata": {},
   "outputs": [],
   "source": [
    "v4_focus_edges_df.to_csv('../data/circlize/Verrucomicrobiota/NCOG_network_v4_circlize_edgelist_verrucomicrobiota.csv', index=False)"
   ]
  },
  {
   "cell_type": "code",
   "execution_count": 27,
   "id": "94863dbd",
   "metadata": {},
   "outputs": [],
   "source": [
    "v9_focus_edges_df = circlize_etl('../data/input/NCOG_21_16S_redo2_asv_count_tax.tsv',\n",
    "                                 '../data/input/NCOG_18sV4_asv_count_tax.tsv',\n",
    "                                 '../data/graph/NCOG_network_output_v9.gml',\n",
    "                                 'p__Verrucomicrobiota', 20)"
   ]
  },
  {
   "cell_type": "code",
   "execution_count": 28,
   "id": "3b422600",
   "metadata": {},
   "outputs": [],
   "source": [
    "v9_focus_edges_df.to_csv('../data/circlize/Verrucomicrobiota/NCOG_network_v9_circlize_edgelist_verrucomicrobiota.csv', index=False)"
   ]
  },
  {
   "cell_type": "markdown",
   "id": "1302fd09",
   "metadata": {},
   "source": [
    "## Pseudo-nitzschia"
   ]
  },
  {
   "cell_type": "code",
   "execution_count": 29,
   "id": "caee22bb",
   "metadata": {},
   "outputs": [],
   "source": [
    "os.makedirs('../data/circlize/Pseudo-nitzschia', exist_ok=True)"
   ]
  },
  {
   "cell_type": "code",
   "execution_count": 30,
   "id": "6e1e294f",
   "metadata": {},
   "outputs": [],
   "source": [
    "v4_focus_edges_df = circlize_etl('../data/input/NCOG_21_16S_redo2_asv_count_tax.tsv',\n",
    "                                 '../data/input/NCOG_18sV4_asv_count_tax.tsv',\n",
    "                                 '../data/graph/NCOG_network_output_v4.gml',\n",
    "                                 'Pseudo-nitzschia', 20)"
   ]
  },
  {
   "cell_type": "code",
   "execution_count": 31,
   "id": "a7cf1c9d",
   "metadata": {},
   "outputs": [],
   "source": [
    "v4_focus_edges_df.to_csv('../data/circlize/Pseudo-nitzschia/NCOG_network_v4_circlize_edgelist_pseudo-nitzschia.csv',\n",
    "                         index=False)"
   ]
  },
  {
   "cell_type": "code",
   "execution_count": 32,
   "id": "2c68a011",
   "metadata": {},
   "outputs": [],
   "source": [
    "v9_focus_edges_df = circlize_etl('../data/input/NCOG_21_16S_redo2_asv_count_tax.tsv',\n",
    "                                 '../data/input/NCOG_18sV4_asv_count_tax.tsv',\n",
    "                                 '../data/graph/NCOG_network_output_v9.gml',\n",
    "                                 'Pseudo-nitzschia', 20)"
   ]
  },
  {
   "cell_type": "code",
   "execution_count": 33,
   "id": "5c111b3f",
   "metadata": {},
   "outputs": [],
   "source": [
    "v9_focus_edges_df.to_csv('../data/circlize/Pseudo-nitzschia/NCOG_network_v9_circlize_edgelist_pseudo-nitzschia.csv',\n",
    "                         index=False)"
   ]
  },
  {
   "cell_type": "markdown",
   "id": "644b1774",
   "metadata": {},
   "source": [
    "## Chaetoceros"
   ]
  },
  {
   "cell_type": "code",
   "execution_count": 34,
   "id": "38082f9e",
   "metadata": {},
   "outputs": [],
   "source": [
    "os.makedirs('../data/circlize/Chaetoceros', exist_ok=True)"
   ]
  },
  {
   "cell_type": "code",
   "execution_count": 35,
   "id": "41eba0ff",
   "metadata": {},
   "outputs": [],
   "source": [
    "v4_focus_edges_df = circlize_etl('../data/input/NCOG_21_16S_redo2_asv_count_tax.tsv',\n",
    "                                 '../data/input/NCOG_18sV4_asv_count_tax.tsv',\n",
    "                                 '../data/graph/NCOG_network_output_v4.gml',\n",
    "                                 'Chaetoceros', 20)"
   ]
  },
  {
   "cell_type": "code",
   "execution_count": 36,
   "id": "e33c99d8",
   "metadata": {},
   "outputs": [],
   "source": [
    "v4_focus_edges_df.to_csv('../data/circlize/Chaetoceros/NCOG_network_v4_circlize_edgelist_chaetoceros.csv', index=False)"
   ]
  },
  {
   "cell_type": "code",
   "execution_count": 37,
   "id": "ef98a09e",
   "metadata": {},
   "outputs": [],
   "source": [
    "v9_focus_edges_df = circlize_etl('../data/input/NCOG_21_16S_redo2_asv_count_tax.tsv',\n",
    "                                 '../data/input/NCOG_18sV4_asv_count_tax.tsv',\n",
    "                                 '../data/graph/NCOG_network_output_v9.gml',\n",
    "                                 'Chaetoceros', 20)"
   ]
  },
  {
   "cell_type": "code",
   "execution_count": 38,
   "id": "09560452",
   "metadata": {},
   "outputs": [],
   "source": [
    "v9_focus_edges_df.to_csv('../data/circlize/Chaetoceros/NCOG_network_v9_circlize_edgelist_chaetoceros.csv',\n",
    "                         index=False)"
   ]
  }
 ],
 "metadata": {
  "kernelspec": {
   "display_name": "Python 3 (ipykernel)",
   "language": "python",
   "name": "python3"
  },
  "language_info": {
   "codemirror_mode": {
    "name": "ipython",
    "version": 3
   },
   "file_extension": ".py",
   "mimetype": "text/x-python",
   "name": "python",
   "nbconvert_exporter": "python",
   "pygments_lexer": "ipython3",
   "version": "3.10.9"
  }
 },
 "nbformat": 4,
 "nbformat_minor": 5
}
