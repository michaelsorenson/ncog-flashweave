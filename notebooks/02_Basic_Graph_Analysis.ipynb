{
 "cells": [
  {
   "cell_type": "code",
   "execution_count": 19,
   "id": "b618c2b7",
   "metadata": {},
   "outputs": [],
   "source": [
    "import igraph as ig\n",
    "import matplotlib.pyplot as plt\n",
    "import networkx as nx\n",
    "import numpy as np\n",
    "import pandas as pd\n",
    "import seaborn as sns"
   ]
  },
  {
   "cell_type": "code",
   "execution_count": 2,
   "id": "7db9bfe4",
   "metadata": {},
   "outputs": [],
   "source": [
    "sixteenS = pd.read_csv('../data/input/NCOG_21_16S_redo2_asv_count_tax.tsv', sep='\\t')\n",
    "eighteenS = pd.read_csv('../data/input/NCOG_18sV4_asv_count_tax.tsv', sep='\\t')\n",
    "sixteenS.index = pd.Series(sixteenS.index).apply(lambda x: 'potu_' + str(x))\n",
    "eighteenS.index = pd.Series(eighteenS.index).apply(lambda x: 'eotu_' + str(x))"
   ]
  },
  {
   "cell_type": "code",
   "execution_count": 3,
   "id": "439c1cdd",
   "metadata": {},
   "outputs": [],
   "source": [
    "gph = nx.read_gml('../data/graph/NCOG_network_output_v4.gml')"
   ]
  },
  {
   "cell_type": "code",
   "execution_count": 4,
   "id": "23d80168",
   "metadata": {},
   "outputs": [],
   "source": [
    "taxonDict = {}\n",
    "for node, taxon in sixteenS['silva_Taxon'].items():\n",
    "    taxonDict[node] = {'Taxon': taxon}\n",
    "for node, taxon in eighteenS['pr2_Taxon'].items():\n",
    "    taxonDict[node] = {'Taxon': taxon}\n",
    "nx.set_node_attributes(gph, taxonDict)"
   ]
  },
  {
   "cell_type": "code",
   "execution_count": 5,
   "id": "131beab5",
   "metadata": {},
   "outputs": [
    {
     "data": {
      "text/plain": [
       "3845"
      ]
     },
     "execution_count": 5,
     "metadata": {},
     "output_type": "execute_result"
    }
   ],
   "source": [
    "nodes = pd.Series(list(gph.nodes()))\n",
    "len(nodes[(nodes.str.contains('potu')) | (nodes.str.contains('eotu'))])"
   ]
  },
  {
   "cell_type": "code",
   "execution_count": 6,
   "id": "339f4b7a",
   "metadata": {},
   "outputs": [
    {
     "data": {
      "text/plain": [
       "3873"
      ]
     },
     "execution_count": 6,
     "metadata": {},
     "output_type": "execute_result"
    }
   ],
   "source": [
    "len(gph.nodes)"
   ]
  },
  {
   "cell_type": "code",
   "execution_count": 7,
   "id": "43e487dc",
   "metadata": {},
   "outputs": [],
   "source": [
    "nodetaxons = nx.get_node_attributes(gph, 'Taxon')\n",
    "edgelist = nx.to_pandas_edgelist(gph, source='node1', target='node2')\n",
    "edgelist['node1Taxonomy'] = edgelist['node1'].apply(lambda x: nodetaxons[x] if x in nodetaxons else np.nan)\n",
    "edgelist['node2Taxonomy'] = edgelist['node2'].apply(lambda x: nodetaxons[x] if x in nodetaxons else np.nan)\n",
    "edgelist = edgelist[['node1', 'node2', 'node1Taxonomy', 'node2Taxonomy', 'weight']]\n",
    "edgelist.to_csv('NCOG_network_edgelist.csv', index=False)"
   ]
  },
  {
   "cell_type": "code",
   "execution_count": 8,
   "id": "4095a675",
   "metadata": {
    "scrolled": true
   },
   "outputs": [
    {
     "data": {
      "text/plain": [
       "<Axes: >"
      ]
     },
     "execution_count": 8,
     "metadata": {},
     "output_type": "execute_result"
    },
    {
     "data": {
      "image/png": "[encoded data removed]",
      "text/plain": [
       "<Figure size 1500x400 with 1 Axes>"
      ]
     },
     "metadata": {},
     "output_type": "display_data"
    }
   ],
   "source": [
    "fig = plt.figure(figsize=(15, 4))\n",
    "ax = fig.add_subplot(111)\n",
    "y = nx.degree_histogram(gph)\n",
    "sns.barplot(x=list(range(len(y))), y=y, ax=ax)"
   ]
  },
  {
   "cell_type": "code",
   "execution_count": 9,
   "id": "f8c56ed5",
   "metadata": {},
   "outputs": [
    {
     "data": {
      "text/plain": [
       "0.005097939112269089"
      ]
     },
     "execution_count": 9,
     "metadata": {},
     "output_type": "execute_result"
    }
   ],
   "source": [
    "nx.density(gph)"
   ]
  },
  {
   "cell_type": "code",
   "execution_count": 10,
   "id": "e3d524fd",
   "metadata": {},
   "outputs": [
    {
     "data": {
      "text/plain": [
       "3873"
      ]
     },
     "execution_count": 10,
     "metadata": {},
     "output_type": "execute_result"
    }
   ],
   "source": [
    "nx.number_of_nodes(gph)"
   ]
  },
  {
   "cell_type": "code",
   "execution_count": 11,
   "id": "f21e8147",
   "metadata": {},
   "outputs": [
    {
     "data": {
      "text/plain": [
       "38225"
      ]
     },
     "execution_count": 11,
     "metadata": {},
     "output_type": "execute_result"
    }
   ],
   "source": [
    "nx.number_of_edges(gph)"
   ]
  },
  {
   "cell_type": "code",
   "execution_count": 12,
   "id": "786647f3",
   "metadata": {},
   "outputs": [
    {
     "data": {
      "text/plain": [
       "True"
      ]
     },
     "execution_count": 12,
     "metadata": {},
     "output_type": "execute_result"
    }
   ],
   "source": [
    "nx.is_weighted(gph)"
   ]
  },
  {
   "cell_type": "markdown",
   "id": "2e2ddaa3-d582-4651-83c8-ace885359da8",
   "metadata": {},
   "source": [
    "### Top 30 nodes by degree"
   ]
  },
  {
   "cell_type": "code",
   "execution_count": 13,
   "id": "7aaa5af3",
   "metadata": {},
   "outputs": [
    {
     "name": "stdout",
     "output_type": "stream",
     "text": [
      "eotu_1255 | 60 Edges | Eukaryota;Alveolata;Dinoflagellata;Dinophyceae;Gymnodiniales;Gymnodiniaceae;Gymnodinium\n",
      "eotu_14223 | 57 Edges | Eukaryota;Stramenopiles;Ochrophyta;Dictyochophyceae;Dictyochophyceae_X;Dictyochales;Dictyochales_X;Dictyochales_X_sp.;\n",
      "eotu_23472 | 46 Edges | Eukaryota;Alveolata;Dinoflagellata;Syndiniales;Dino-Group-II;Dino-Group-II-Clade-7;Dino-Group-II-Clade-7_X;Dino-Group-II-Clade-7_X_sp.;\n",
      "season_Winter | 43 Edges | \n",
      "eotu_18914 | 42 Edges | Eukaryota;Alveolata;Dinoflagellata;Dinophyceae\n",
      "potu_9749 | 42 Edges | d__Bacteria; p__Proteobacteria; c__Alphaproteobacteria; o__Puniceispirillales; f__SAR116_clade; g__SAR116_clade\n",
      "potu_16677 | 42 Edges | d__Bacteria; p__Bacteroidota; c__Bacteroidia; o__Flavobacteriales; f__Flavobacteriaceae; g__NS2b_marine_group; s__uncultured_marine\n",
      "season_Autumn | 42 Edges | \n",
      "potu_2832 | 41 Edges | d__Bacteria; p__SAR324_clade(Marine_group_B); c__SAR324_clade(Marine_group_B); o__SAR324_clade(Marine_group_B); f__SAR324_clade(Marine_group_B); g__SAR324_clade(Marine_group_B); s__uncultured_SAR324\n",
      "eotu_739 | 40 Edges | Eukaryota;Alveolata;Dinoflagellata;Dinophyceae\n",
      "eotu_5382 | 40 Edges | Eukaryota;Alveolata;Dinoflagellata;Dinophyceae;Gymnodiniales\n",
      "eotu_27780 | 40 Edges | Eukaryota;Alveolata;Dinoflagellata;Syndiniales;Dino-Group-I;Dino-Group-I-Clade-4;Dino-Group-I-Clade-4_X;Dino-Group-I-Clade-4_X_sp.;\n",
      "eotu_33246 | 40 Edges | Eukaryota;Alveolata;Dinoflagellata;Syndiniales;Dino-Group-II;Dino-Group-II-Clade-16;Dino-Group-II-Clade-16_X;Dino-Group-II-Clade-16_X_sp.;\n",
      "potu_1867 | 40 Edges | d__Bacteria; p__Bacteroidota; c__Bacteroidia; o__Flavobacteriales; f__Flavobacteriaceae; g__NS5_marine_group; s__uncultured_Flavobacterium\n",
      "potu_5229 | 40 Edges | d__Bacteria; p__Bacteroidota; c__Bacteroidia; o__Flavobacteriales; f__Cryomorphaceae; g__uncultured; s__uncultured_Owenweeksia\n",
      "potu_9568 | 40 Edges | d__Bacteria; p__Proteobacteria; c__Gammaproteobacteria; o__KI89A_clade; f__KI89A_clade; g__KI89A_clade; s__uncultured_bacterium\n"
     ]
    }
   ],
   "source": [
    "attrs = nx.get_node_attributes(gph, 'Taxon')\n",
    "for node, degree in sorted(gph.degree, key=lambda x: x[1], reverse=True)[:30]:\n",
    "    if degree >= 40:\n",
    "        print(node, '|', degree, 'Edges', end=\" | \")\n",
    "        if node in attrs:\n",
    "            print(attrs[node])\n",
    "        else:\n",
    "            print()"
   ]
  },
  {
   "cell_type": "code",
   "execution_count": 14,
   "id": "7047b643",
   "metadata": {},
   "outputs": [
    {
     "name": "stdout",
     "output_type": "stream",
     "text": [
      "eotu_27 eotu_983 {'weight': 0.10149174561805158}\n"
     ]
    }
   ],
   "source": [
    "for line in nx.generate_edgelist(gph):\n",
    "    print(line)\n",
    "    break"
   ]
  },
  {
   "cell_type": "code",
   "execution_count": 15,
   "id": "e105f698",
   "metadata": {},
   "outputs": [
    {
     "name": "stdout",
     "output_type": "stream",
     "text": [
      "('eotu_27', 'eotu_983') \tWeight: 0.10149174561805158\n",
      "('eotu_27', 'eotu_1021') \tWeight: 0.1001546106338834\n",
      "('eotu_27', 'eotu_6238') \tWeight: 0.28546554514600675\n",
      "('eotu_27', 'eotu_10470') \tWeight: 0.11274584882506387\n",
      "('eotu_27', 'eotu_16560') \tWeight: 0.12600029683422856\n",
      "('eotu_27', 'eotu_17888') \tWeight: 0.10921523418537671\n",
      "('eotu_27', 'eotu_19203') \tWeight: 0.1853354225891696\n",
      "('eotu_27', 'eotu_19769') \tWeight: 0.14577157138775226\n",
      "('eotu_27', 'eotu_21382') \tWeight: 0.10491287153555566\n",
      "('eotu_27', 'eotu_21662') \tWeight: 0.09713232823183271\n",
      "('eotu_27', 'eotu_25140') \tWeight: 0.1553815344455318\n",
      "('eotu_27', 'eotu_29450') \tWeight: 0.12657467362905087\n",
      "('eotu_27', 'eotu_33377') \tWeight: 0.09884606865857425\n",
      "('eotu_27', 'eotu_36037') \tWeight: 0.1417208376668878\n",
      "('eotu_27', 'eotu_36945') \tWeight: 0.11031639614526399\n",
      "('eotu_27', 'eotu_36954') \tWeight: 0.14679169552403004\n",
      "('eotu_27', 'eotu_38039') \tWeight: 0.14048276229516737\n",
      "('eotu_27', 'eotu_40273') \tWeight: 0.0872010243772692\n",
      "('eotu_27', 'eotu_40706') \tWeight: 0.10360853435729364\n",
      "('eotu_27', 'potu_3964') \tWeight: 0.11080847331717461\n"
     ]
    }
   ],
   "source": [
    "edgeweights = nx.get_edge_attributes(gph, 'weight')\n",
    "for edge in list(edgeweights.keys())[:20]:\n",
    "    print(edge, '\\tWeight:', edgeweights[edge])"
   ]
  },
  {
   "cell_type": "code",
   "execution_count": 16,
   "id": "662b571f",
   "metadata": {},
   "outputs": [],
   "source": [
    "pos_edges = 0\n",
    "neg_edges = 0\n",
    "for edge, weight in nx.get_edge_attributes(gph, 'weight').items():\n",
    "    if weight >= 0:\n",
    "        pos_edges += 1\n",
    "    else:\n",
    "        neg_edges += 1\n",
    "total = 0"
   ]
  },
  {
   "cell_type": "markdown",
   "id": "9694eda8-72e3-417c-81a9-0da817954690",
   "metadata": {},
   "source": [
    "## Table matching Chaffron paper"
   ]
  },
  {
   "cell_type": "markdown",
   "id": "87b5ebcd-8181-43f4-8a4f-7953cff3f80f",
   "metadata": {},
   "source": [
    "#### convert networkx graph to an igraph graph for computation of descriptive statistics"
   ]
  },
  {
   "cell_type": "code",
   "execution_count": 34,
   "id": "f4085c37-e2b8-4f85-9329-a60b50bd560e",
   "metadata": {},
   "outputs": [],
   "source": [
    "# Convert networkx graph to igraph\n",
    "G_ig = ig.Graph.from_networkx(gph)\n",
    "\n",
    "# Calculate the graph's clustering coefficient\n",
    "clustering_coefficient = G_ig.transitivity_undirected()\n",
    "\n",
    "# Calculate the average shortest path length\n",
    "average_shortest_path_length = G_ig.average_path_length(directed=False)\n",
    "\n",
    "# Calculate the diameter\n",
    "diameter = G_ig.diameter(directed=False)\n",
    "\n",
    "# Calculate the average betweenness\n",
    "betweenness = G_ig.betweenness(directed=False)\n",
    "average_betweenness = np.mean(betweenness)\n",
    "\n",
    "# Extract positive network (only positive weights)\n",
    "positive_edges = [(e.source, e.target) for e in G_ig.es if e['weight'] > 0]\n",
    "positive_weights = [e['weight'] for e in G_ig.es if e['weight'] > 0]\n",
    "G_ig_positive = ig.Graph(edges=positive_edges)\n",
    "G_ig_positive.es['weight'] = positive_weights\n",
    "\n",
    "# Calculate the modularity of the positive network\n",
    "positive_clusters = G_ig_positive.community_fastgreedy(weights='weight').as_clustering()\n",
    "modularity_positive = positive_clusters.modularity\n",
    "\n",
    "# Number of modules in the positive network\n",
    "number_of_modules_positive = len(positive_clusters)"
   ]
  },
  {
   "cell_type": "code",
   "execution_count": 64,
   "id": "0bc8621e-2967-4a97-9929-cdbd603b8f51",
   "metadata": {},
   "outputs": [],
   "source": [
    "table1 = {\n",
    "    'Nodes': [nx.number_of_nodes(gph)],\n",
    "    'Edges': [nx.number_of_edges(gph)],\n",
    "    'Positive Edges (%)': [str(pos_edges) + ' (' + str(np.round(100 * pos_edges/(pos_edges + neg_edges), 2)) + '%)'],\n",
    "    'Negative Edges': [neg_edges],\n",
    "    'Average clustering coefficient (transitivity)': [clustering_coefficient],\n",
    "    'Average path length': [average_shortest_path_length],\n",
    "    'Diameter': [diameter],\n",
    "    'Average betweenness': [average_betweenness],\n",
    "    'Modularity of positive network': [modularity_positive], # these two are more difficult in networkx than igraph\n",
    "    'Number of modules in positive network': [number_of_modules_positive] \n",
    "}"
   ]
  },
  {
   "cell_type": "code",
   "execution_count": 21,
   "id": "12fc6147",
   "metadata": {
    "scrolled": true
   },
   "outputs": [],
   "source": [
    "# Old implementation using networkx only\n",
    "# table1 = {\n",
    "#     'Nodes': [nx.number_of_nodes(gph)],\n",
    "#     'Edges': [nx.number_of_edges(gph)],\n",
    "#     'Positive Edges (%)': [str(pos_edges) + ' ' + str(pos_edges/(pos_edges + neg_edges))],\n",
    "#     'Negative Edges': [neg_edges],\n",
    "#     'Average clustering coefficient': [nx.average_clustering(gph)],\n",
    "#     'Average path length': [nx.average_shortest_path_length(gph)],\n",
    "#     'Diameter': [nx.diameter(gph)],\n",
    "#     'Average betweenness': [nx.betweenness_centrality(gph)],\n",
    "#     'Modularity of positive network': [np.nan], # these two are more difficult in networkx than igraph\n",
    "#     'Number of modules in positive network': [np.nan] \n",
    "# }"
   ]
  },
  {
   "cell_type": "code",
   "execution_count": 65,
   "id": "9b17bb04",
   "metadata": {},
   "outputs": [
    {
     "data": {
      "text/html": [
       "<div>\n",
       "<style scoped>\n",
       "    .dataframe tbody tr th:only-of-type {\n",
       "        vertical-align: middle;\n",
       "    }\n",
       "\n",
       "    .dataframe tbody tr th {\n",
       "        vertical-align: top;\n",
       "    }\n",
       "\n",
       "    .dataframe thead th {\n",
       "        text-align: right;\n",
       "    }\n",
       "</style>\n",
       "<table border=\"1\" class=\"dataframe\">\n",
       "  <thead>\n",
       "    <tr style=\"text-align: right;\">\n",
       "      <th></th>\n",
       "      <th>Nodes</th>\n",
       "      <th>Edges</th>\n",
       "      <th>Positive Edges (%)</th>\n",
       "      <th>Negative Edges</th>\n",
       "      <th>Average clustering coefficient (transitivity)</th>\n",
       "      <th>Average path length</th>\n",
       "      <th>Diameter</th>\n",
       "      <th>Average betweenness</th>\n",
       "      <th>Modularity of positive network</th>\n",
       "      <th>Number of modules in positive network</th>\n",
       "    </tr>\n",
       "  </thead>\n",
       "  <tbody>\n",
       "    <tr>\n",
       "      <th>0</th>\n",
       "      <td>3873</td>\n",
       "      <td>38225</td>\n",
       "      <td>36031 (94.26%)</td>\n",
       "      <td>2194</td>\n",
       "      <td>0.059416</td>\n",
       "      <td>3.357903</td>\n",
       "      <td>7</td>\n",
       "      <td>4564.899561</td>\n",
       "      <td>0.50544</td>\n",
       "      <td>8</td>\n",
       "    </tr>\n",
       "  </tbody>\n",
       "</table>\n",
       "</div>"
      ],
      "text/plain": [
       "   Nodes  Edges Positive Edges (%)  Negative Edges  \\\n",
       "0   3873  38225     36031 (94.26%)            2194   \n",
       "\n",
       "   Average clustering coefficient (transitivity)  Average path length  \\\n",
       "0                                       0.059416             3.357903   \n",
       "\n",
       "   Diameter  Average betweenness  Modularity of positive network  \\\n",
       "0         7          4564.899561                         0.50544   \n",
       "\n",
       "   Number of modules in positive network  \n",
       "0                                      8  "
      ]
     },
     "execution_count": 65,
     "metadata": {},
     "output_type": "execute_result"
    }
   ],
   "source": [
    "pd.DataFrame(table1)"
   ]
  },
  {
   "cell_type": "markdown",
   "id": "b6187d95-659c-41c9-b3cd-dcb7909482d1",
   "metadata": {},
   "source": [
    "### examine cluster modules in positive network\n",
    "\n",
    "These clusters were generated using igraph's [community_fastgreedy](https://igraph.org/python/doc/api/igraph.Graph.html#community_fastgreedy) algorithm, which optimizes for modularity score (a score that goes up as intra-cluster distance is minimized and inter-cluster distance is maximized)\n",
    "\n",
    "Note that the subgraphs will capture all of the nodes in the parent network, but not necessarily all of the edges (if two nodes that share an edge are split into different clusters, that edge is not represented by the cluster modules."
   ]
  },
  {
   "cell_type": "code",
   "execution_count": 80,
   "id": "5171a696-6de5-48ea-82b3-fca46e124bf8",
   "metadata": {},
   "outputs": [
    {
     "data": {
      "text/html": [
       "<div>\n",
       "<style scoped>\n",
       "    .dataframe tbody tr th:only-of-type {\n",
       "        vertical-align: middle;\n",
       "    }\n",
       "\n",
       "    .dataframe tbody tr th {\n",
       "        vertical-align: top;\n",
       "    }\n",
       "\n",
       "    .dataframe thead th {\n",
       "        text-align: right;\n",
       "    }\n",
       "</style>\n",
       "<table border=\"1\" class=\"dataframe\">\n",
       "  <thead>\n",
       "    <tr style=\"text-align: right;\">\n",
       "      <th></th>\n",
       "      <th>Number of nodes</th>\n",
       "      <th>Number of edges</th>\n",
       "      <th>Proportion of overall nodes (%)</th>\n",
       "      <th>Proportion of overall edges (%)</th>\n",
       "      <th>Average clustering coefficient (transitivity)</th>\n",
       "      <th>Average betweenness</th>\n",
       "    </tr>\n",
       "    <tr>\n",
       "      <th>Cluster</th>\n",
       "      <th></th>\n",
       "      <th></th>\n",
       "      <th></th>\n",
       "      <th></th>\n",
       "      <th></th>\n",
       "      <th></th>\n",
       "    </tr>\n",
       "  </thead>\n",
       "  <tbody>\n",
       "    <tr>\n",
       "      <th>0</th>\n",
       "      <td>1087</td>\n",
       "      <td>9303</td>\n",
       "      <td>28.07</td>\n",
       "      <td>24.34</td>\n",
       "      <td>0.075529</td>\n",
       "      <td>1045.942962</td>\n",
       "    </tr>\n",
       "    <tr>\n",
       "      <th>1</th>\n",
       "      <td>458</td>\n",
       "      <td>2140</td>\n",
       "      <td>11.83</td>\n",
       "      <td>5.60</td>\n",
       "      <td>0.092879</td>\n",
       "      <td>501.519651</td>\n",
       "    </tr>\n",
       "    <tr>\n",
       "      <th>2</th>\n",
       "      <td>1089</td>\n",
       "      <td>6976</td>\n",
       "      <td>28.12</td>\n",
       "      <td>18.25</td>\n",
       "      <td>0.077557</td>\n",
       "      <td>1341.379247</td>\n",
       "    </tr>\n",
       "    <tr>\n",
       "      <th>3</th>\n",
       "      <td>262</td>\n",
       "      <td>848</td>\n",
       "      <td>6.76</td>\n",
       "      <td>2.22</td>\n",
       "      <td>0.280683</td>\n",
       "      <td>388.938931</td>\n",
       "    </tr>\n",
       "    <tr>\n",
       "      <th>4</th>\n",
       "      <td>960</td>\n",
       "      <td>6999</td>\n",
       "      <td>24.79</td>\n",
       "      <td>18.31</td>\n",
       "      <td>0.097894</td>\n",
       "      <td>1016.741667</td>\n",
       "    </tr>\n",
       "    <tr>\n",
       "      <th>5</th>\n",
       "      <td>13</td>\n",
       "      <td>39</td>\n",
       "      <td>0.34</td>\n",
       "      <td>0.10</td>\n",
       "      <td>0.547945</td>\n",
       "      <td>3.153846</td>\n",
       "    </tr>\n",
       "    <tr>\n",
       "      <th>6</th>\n",
       "      <td>2</td>\n",
       "      <td>1</td>\n",
       "      <td>0.05</td>\n",
       "      <td>0.00</td>\n",
       "      <td>NaN</td>\n",
       "      <td>0.000000</td>\n",
       "    </tr>\n",
       "    <tr>\n",
       "      <th>7</th>\n",
       "      <td>2</td>\n",
       "      <td>1</td>\n",
       "      <td>0.05</td>\n",
       "      <td>0.00</td>\n",
       "      <td>NaN</td>\n",
       "      <td>0.000000</td>\n",
       "    </tr>\n",
       "  </tbody>\n",
       "</table>\n",
       "</div>"
      ],
      "text/plain": [
       "         Number of nodes  Number of edges  Proportion of overall nodes (%)  \\\n",
       "Cluster                                                                      \n",
       "0                   1087             9303                            28.07   \n",
       "1                    458             2140                            11.83   \n",
       "2                   1089             6976                            28.12   \n",
       "3                    262              848                             6.76   \n",
       "4                    960             6999                            24.79   \n",
       "5                     13               39                             0.34   \n",
       "6                      2                1                             0.05   \n",
       "7                      2                1                             0.05   \n",
       "\n",
       "         Proportion of overall edges (%)  \\\n",
       "Cluster                                    \n",
       "0                                  24.34   \n",
       "1                                   5.60   \n",
       "2                                  18.25   \n",
       "3                                   2.22   \n",
       "4                                  18.31   \n",
       "5                                   0.10   \n",
       "6                                   0.00   \n",
       "7                                   0.00   \n",
       "\n",
       "         Average clustering coefficient (transitivity)  Average betweenness  \n",
       "Cluster                                                                      \n",
       "0                                             0.075529          1045.942962  \n",
       "1                                             0.092879           501.519651  \n",
       "2                                             0.077557          1341.379247  \n",
       "3                                             0.280683           388.938931  \n",
       "4                                             0.097894          1016.741667  \n",
       "5                                             0.547945             3.153846  \n",
       "6                                                  NaN             0.000000  \n",
       "7                                                  NaN             0.000000  "
      ]
     },
     "execution_count": 80,
     "metadata": {},
     "output_type": "execute_result"
    }
   ],
   "source": [
    "cluster_statistics = pd.DataFrame({\n",
    "    'Cluster': np.arange(8),\n",
    "    'Number of nodes': [subgph.vcount() for subgph in positive_clusters.subgraphs()],\n",
    "    'Number of edges': [subgph.ecount() for subgph in positive_clusters.subgraphs()],\n",
    "    'Proportion of overall nodes (%)': np.round([100 * subgph.vcount() / G_ig.vcount() for subgph in positive_clusters.subgraphs()], 2),\n",
    "    'Proportion of overall edges (%)': np.round([100 * subgph.ecount() / G_ig.ecount() for subgph in positive_clusters.subgraphs()], 2),\n",
    "    'Average clustering coefficient (transitivity)': [subgph.transitivity_undirected() for subgph in positive_clusters.subgraphs()],\n",
    "    'Average betweenness': [np.mean(subgph.betweenness(directed=False)) for subgph in positive_clusters.subgraphs()]\n",
    "}).set_index('Cluster', drop=True)\n",
    "cluster_statistics"
   ]
  }
 ],
 "metadata": {
  "kernelspec": {
   "display_name": "Python 3 (ipykernel)",
   "language": "python",
   "name": "python3"
  },
  "language_info": {
   "codemirror_mode": {
    "name": "ipython",
    "version": 3
   },
   "file_extension": ".py",
   "mimetype": "text/x-python",
   "name": "python",
   "nbconvert_exporter": "python",
   "pygments_lexer": "ipython3",
   "version": "3.10.9"
  }
 },
 "nbformat": 4,
 "nbformat_minor": 5
}
