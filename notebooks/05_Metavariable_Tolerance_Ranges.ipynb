{
 "cells": [
  {
   "cell_type": "code",
   "execution_count": 1,
   "id": "837e08d8",
   "metadata": {},
   "outputs": [],
   "source": [
    "import pandas as pd\n",
    "import numpy as np"
   ]
  },
  {
   "cell_type": "code",
   "execution_count": 4,
   "id": "fbd37929",
   "metadata": {},
   "outputs": [],
   "source": [
    "sixteenS_v4 = pd.read_csv('../data/cleaned/NCOG_21_16sV4_redo2_filtered_asv_count_tax.tsv', sep='\\t')\n",
    "sixteenS_v4.set_index('Unnamed: 0', drop=True, inplace=True)\n",
    "sixteenS_v4.index = sixteenS_v4.index.rename('sample')\n",
    "eighteenS_v4 = pd.read_csv('../data/cleaned/NCOG_18sV4_filtered_asv_count_tax.tsv', sep='\\t')\n",
    "eighteenS_v4.set_index('Unnamed: 0', drop=True, inplace=True)\n",
    "eighteenS_v4.index = eighteenS_v4.index.rename('sample')\n",
    "meta_v4 = pd.read_csv('../data/cleaned/NCOG_v4_sample_log_DNA_stvx_meta_filtered_2014-2020_mod.tsv', sep='\\t')\n",
    "meta_v4.set_index('Unnamed: 0', drop=True, inplace=True)\n",
    "meta_v4.index = meta_v4.index.rename('sample')"
   ]
  },
  {
   "cell_type": "code",
   "execution_count": 5,
   "id": "47eca98f",
   "metadata": {},
   "outputs": [],
   "source": [
    "df = pd.concat([sixteenS_v4, eighteenS_v4], axis=1)"
   ]
  },
  {
   "cell_type": "markdown",
   "id": "7706e8e0",
   "metadata": {},
   "source": [
    "### Below takes ~30min"
   ]
  },
  {
   "cell_type": "code",
   "execution_count": 6,
   "id": "b5a905af",
   "metadata": {},
   "outputs": [],
   "source": [
    "# add scale on bottom to show the range of the nodes that were removed"
   ]
  },
  {
   "cell_type": "code",
   "execution_count": 8,
   "id": "d43d068e",
   "metadata": {},
   "outputs": [
    {
     "name": "stdout",
     "output_type": "stream",
     "text": [
      "99.97\n"
     ]
    }
   ],
   "source": [
    "env_of_interest = ['Depthm', 'T_degC', 'Salnty', 'STheta', 'O2ml_L', 'PO4ug', 'SiO3ug', 'NO3ug', 'NH3ug', 'ChlorA',\n",
    "                   'Phaeop', 'MLD_Sigma', 'NCDepth']\n",
    "tol_ranges = {env: {'otus': df.columns.tolist(), '25': [], '50': [], '75': []} for env in env_of_interest}\n",
    "for i, otu in enumerate(df.columns):\n",
    "    print(roun100/len(df.columns), 2), end='\\r')\n",
    "    #if np.mean(df[otu] > 0) > 0.30:\n",
    "    # calculate tolerance range of each metadata\n",
    "    otu_sum = np.sum(df[otu])\n",
    "    if otu_sum > 0:\n",
    "        otu_envs = [[] for x in env_of_interest]\n",
    "        for sample, entry in df[otu].items():\n",
    "            if entry > 0:\n",
    "                # 10000 * (number of otus in sample / total number of otus in all samples)\n",
    "                count = 10000 * (entry / otu_sum)\n",
    "                for j in range(round(count)):\n",
    "                    for k in range(len(otu_envs)):\n",
    "                        otu_envs[k].append(meta_v4.loc[sample, env_of_interest[k]])\n",
    "        for i, env in enumerate(env_of_interest):\n",
    "            tol_ranges[env]['25'].append(np.quantile(otu_envs[i], 0.25))\n",
    "            tol_ranges[env]['50'].append(np.median(otu_envs[i]))\n",
    "            tol_ranges[env]['75'].append(np.quantile(otu_envs[i], 0.75))\n",
    "    else:\n",
    "        for i, env in enumerate(env_of_interest):\n",
    "            tol_ranges[env]['25'].append(np.nan)\n",
    "            tol_ranges[env]['50'].append(np.nan)\n",
    "            tol_ranges[env]['75'].append(np.nan)\n",
    "#     else:\n",
    "#         for env in env_of_interest:\n",
    "#             tol_ranges[env]['25'].append(np.nan)\n",
    "#             tol_ranges[env]['50'].append(np.nan)\n",
    "#             tol_ranges[env]['75'].append(np.nan)\n",
    "print()\n",
    "\n",
    "with pd.ExcelWriter(\"../data/tolerance_ranges/OTU_metavar_tolerance_ranges.xlsx\") as writer:\n",
    "    # use to_excel function and specify the sheet_name and index\n",
    "    # to store the dataframe in specified sheet\n",
    "    for key in tol_ranges.keys():\n",
    "        pd.DataFrame(tol_ranges[key]).set_index('otus', drop=True).to_excel(writer, sheet_name=key)"
   ]
  }
 ],
 "metadata": {
  "kernelspec": {
   "display_name": "Python 3 (ipykernel)",
   "language": "python",
   "name": "python3"
  },
  "language_info": {
   "codemirror_mode": {
    "name": "ipython",
    "version": 3
   },
   "file_extension": ".py",
   "mimetype": "text/x-python",
   "name": "python",
   "nbconvert_exporter": "python",
   "pygments_lexer": "ipython3",
   "version": "3.10.9"
  }
 },
 "nbformat": 4,
 "nbformat_minor": 5
}
